{
 "cells": [
  {
   "cell_type": "code",
   "execution_count": 1,
   "metadata": {},
   "outputs": [],
   "source": [
    "import matplotlib.pyplot as plt\n",
    "import numpy as np\n",
    "import os\n",
    "import tensorflow as tf\n",
    "import skimage\n",
    "from tensorflow.keras import layers\n",
    "\n",
    "import warnings\n",
    "warnings.filterwarnings('ignore')"
   ]
  },
  {
   "cell_type": "code",
   "execution_count": 2,
   "metadata": {},
   "outputs": [
    {
     "name": "stdout",
     "output_type": "stream",
     "text": [
      "Number of samples: 225\n"
     ]
    }
   ],
   "source": [
    "input_dir = \"/Users/Camilo/Desktop/U/Semestre 11vo/Seminario/Jupyter/HER2_images_pixel_segmentation/imgs/\"\n",
    "target_dir = \"/Users/Camilo/Desktop/U/Semestre 11vo/Seminario/Jupyter/HER2_images_pixel_segmentation/labels/\"\n",
    "img_size = (200, 200)\n",
    "num_classes = 1\n",
    "batch_size = 32\n",
    "\n",
    "input_img_paths = sorted(\n",
    "    [\n",
    "        os.path.join(input_dir, fname)\n",
    "        for fname in os.listdir(input_dir)\n",
    "        if fname.endswith(\".png\")\n",
    "    ]\n",
    ")\n",
    "\n",
    "print(\"Number of samples:\", len(input_img_paths))"
   ]
  },
  {
   "cell_type": "code",
   "execution_count": 3,
   "metadata": {
    "scrolled": true
   },
   "outputs": [],
   "source": [
    "flipped_lr = [tf.image.flip_left_right(skimage.io.imread(input_img_paths[i])) for i in range(len(input_img_paths))]\n",
    "flipped_ud = [tf.image.flip_up_down(skimage.io.imread(input_img_paths[i])) for i in range(len(input_img_paths))]\n",
    "rotation = [tf.image.rot90(skimage.io.imread(input_img_paths[i])) for i in range(len(input_img_paths))]\n",
    "central_crop = [tf.image.central_crop(skimage.io.imread(input_img_paths[i]), 0.8) for i in range(len(input_img_paths))]\n",
    "brightness = [tf.image.adjust_brightness(skimage.io.imread(input_img_paths[i]), delta=0.3) for i in range(len(input_img_paths))]\n",
    "transpose = [tf.image.transpose(skimage.io.imread(input_img_paths[i])) for i in range(len(input_img_paths))]\n"
   ]
  },
  {
   "cell_type": "code",
   "execution_count": 1,
   "metadata": {},
   "outputs": [
    {
     "ename": "NameError",
     "evalue": "name 'plt' is not defined",
     "output_type": "error",
     "traceback": [
      "\u001b[1;31m---------------------------------------------------------------------------\u001b[0m",
      "\u001b[1;31mNameError\u001b[0m                                 Traceback (most recent call last)",
      "Cell \u001b[1;32mIn [1], line 2\u001b[0m\n\u001b[0;32m      1\u001b[0m \u001b[38;5;28;01mfor\u001b[39;00m i \u001b[38;5;129;01min\u001b[39;00m \u001b[38;5;28mrange\u001b[39m(\u001b[38;5;241m1\u001b[39m):\n\u001b[1;32m----> 2\u001b[0m     fig, axes \u001b[38;5;241m=\u001b[39m \u001b[43mplt\u001b[49m\u001b[38;5;241m.\u001b[39msubplots(ncols\u001b[38;5;241m=\u001b[39m\u001b[38;5;241m7\u001b[39m, figsize\u001b[38;5;241m=\u001b[39m(\u001b[38;5;241m15\u001b[39m, \u001b[38;5;241m15\u001b[39m))\n\u001b[0;32m      3\u001b[0m     ax \u001b[38;5;241m=\u001b[39m axes\u001b[38;5;241m.\u001b[39mravel()\n\u001b[0;32m      4\u001b[0m     ax[\u001b[38;5;241m0\u001b[39m] \u001b[38;5;241m=\u001b[39m plt\u001b[38;5;241m.\u001b[39msubplot(\u001b[38;5;241m1\u001b[39m, \u001b[38;5;241m7\u001b[39m, \u001b[38;5;241m1\u001b[39m)\n",
      "\u001b[1;31mNameError\u001b[0m: name 'plt' is not defined"
     ]
    }
   ],
   "source": [
    "for i in range(1):\n",
    "    fig, axes = plt.subplots(ncols=7, figsize=(15, 15))\n",
    "    ax = axes.ravel()\n",
    "    ax[0] = plt.subplot(1, 7, 1)\n",
    "    ax[1] = plt.subplot(1, 7, 2)\n",
    "    ax[2] = plt.subplot(1, 7, 3)\n",
    "    ax[3] = plt.subplot(1, 7, 4)\n",
    "    ax[4] = plt.subplot(1, 7, 5)\n",
    "    ax[5] = plt.subplot(1, 7, 6)\n",
    "    ax[6] = plt.subplot(1, 7, 7, sharex=ax[0], sharey=ax[0])\n",
    "    \n",
    "    ax[0].imshow(skimage.io.imread(input_img_paths[224]))\n",
    "    ax[0].set_title('Original')\n",
    "    ax[0].axis('off')\n",
    "\n",
    "    ax[1].imshow(flipped_lr[224])\n",
    "    ax[1].set_title('Flipped left-right')\n",
    "    ax[1].axis('off')\n",
    "\n",
    "    ax[2].imshow(flipped_ud[224])\n",
    "    ax[2].set_title('Flipped up-down')\n",
    "    ax[2].axis('off')\n",
    "\n",
    "    ax[3].imshow(rotation[224])\n",
    "    ax[3].set_title('Rotation')\n",
    "    ax[3].axis('off')\n",
    "    \n",
    "    ax[4].imshow(central_crop[224])\n",
    "    ax[4].set_title('Crop')\n",
    "    ax[4].axis('off')\n",
    "    \n",
    "    ax[5].imshow(brightness[224])\n",
    "    ax[5].set_title('Brightness')\n",
    "    ax[5].axis('off')\n",
    "    \n",
    "    ax[6].imshow(transpose[224])\n",
    "    ax[6].set_title('Transpose')\n",
    "    ax[6].axis('off')\n",
    "\n",
    "plt.savefig('augmentation.png', bbox_inches='tight')\n",
    "plt.show()"
   ]
  }
 ],
 "metadata": {
  "kernelspec": {
   "display_name": "Python 3 (ipykernel)",
   "language": "python",
   "name": "python3"
  },
  "language_info": {
   "codemirror_mode": {
    "name": "ipython",
    "version": 3
   },
   "file_extension": ".py",
   "mimetype": "text/x-python",
   "name": "python",
   "nbconvert_exporter": "python",
   "pygments_lexer": "ipython3",
   "version": "3.10.8"
  }
 },
 "nbformat": 4,
 "nbformat_minor": 4
}
